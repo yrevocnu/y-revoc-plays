{
 "cells": [
  {
   "cell_type": "code",
   "execution_count": 1,
   "metadata": {},
   "outputs": [],
   "source": [
    " %load_ext tikzmagic"
   ]
  },
  {
   "cell_type": "markdown",
   "metadata": {},
   "source": [
    "A screenplay adapted from _Meno_ (circa 385 B.C.E.) by Plato.\n",
    "\n",
    "\n",
    "# Front matter\n",
    "\n",
    "\n",
    "## Parts\n",
    "\n",
    "* Socrates\n",
    "* Meno\n",
    "* Boy/Soul\n",
    "\n",
    "Non-gender specific.\n",
    "\n",
    "## MADLIB\n",
    "\n",
    "* ROOM #1\n",
    "* FURNITURE\n",
    "* MAJOR ARCANA CARD\n",
    "* INTERPERSONAL TRANSITIVE ACTION VERB #1\n",
    "* BODY PART\n",
    "* INTERPERSONAL TRANSITIVE ACTION VERB #2\n",
    "* ROOM #2\n",
    "* EMOTION #1\n",
    "* EMOTION #2\n",
    "* EMOTION #3\n",
    "* COLOR\n",
    "* FURNITURE\n",
    "* MOVEMENT ART STYLE"
   ]
  },
  {
   "cell_type": "markdown",
   "metadata": {},
   "source": [
    "## Stage Directions: General\n",
    "\n",
    "In the spirit of Uncovery, all actors should be wearing as little clothing as they feel comfortable performing in (and no less). At the same time, elaborate costumes, such as masks, are encouraged.\n",
    "\n",
    "Blanks in the stage directions should be filled through the MADLIB process.\n",
    "\n",
    "The Boy/Soul part exists in many forms throughout the play. Their dance reflects the amount that SOUL vs. BOY is manifesting at any time. \"Dance\" can be interpreted broadly as acrobatics, juggling, calisthenics, etc.\n",
    "\n",
    "The Boy/Soul communicates largely non-verbally. Most of their lines are either {YES}, {NO}, or a number, such as {2} or {4} in curly braces. The Boy should establish a 'sign language' for these terms, which can be translated in subtitles.\n",
    "\n",
    "The BOY's line is {YES} so frequently that this can be a tremendously subtle action, perhaps more indifferent than affirmative.\n",
    "    \n",
    "When the Boy/Soul has lines that are speech, these lines should be spoken AS LOUDLY AS POSSIBLE, perhaps also SHOUTED BY MANY OTHERS IN UNISON, as this is the voice of the immortal soul-that-is-all-souls.\n",
    "\n",
    "The diagrams can be individually drawn by SOCRATES, or exist in a prepared way, such as on a flip chart. They may also be projected with a light projector, or superimposed on the video during production."
   ]
  },
  {
   "cell_type": "markdown",
   "metadata": {},
   "source": [
    "# Script\n",
    "\n",
    "## Prelude\n",
    "\n",
    "[Music plays. The SOUL dances. They are immortal, infinitely dying and reborn]\n",
    "\n",
    "[Music fades. The SOUL exits.]"
   ]
  },
  {
   "cell_type": "markdown",
   "metadata": {},
   "source": [
    "## Act 1\n",
    "\n",
    "[Indoors. The [ROOM #1]. SOCRATES is resting at the [FURNITURE], dealing himself a [MAJOR ARCANA CARD] from a tarot deck. Meno is [INTERPERSONAL TRANSITIVE ACTION VERB #1]ing SOCRATES's [BODY PART].]\n",
    "\n",
    "**Men.** How will you enquire into what you do not know? And if you find what you want, how will you know that this is the thing you did not know?\n",
    "\n",
    "**Soc.** I know what you mean; but just see what a tiresome dispute you are introducing. You argue that man cannot enquire either about what he knows, or about what he does not know. For if he knows, he has no need to enquire; and if not, he cannot; for he does not know what he's talking about.\n",
    "\n",
    "**Men.** Well, is not the argument sound?\n",
    "\n",
    "**Soc.** I think not.\n",
    "\n",
    "**Men.** Why not?\n",
    "\n",
    "[SOCRATES interrupt's Meno's motions, stands, and steps a few paces away. This is important.]\n",
    "\n",
    "**Soc.** I will tell you why: I have heard from certain wise men and women who spoke of things divine.\n",
    "\n",
    "**Men.** What was it? and who were they?\n",
    "\n",
    "[During the following monologue, fade in on visuals of the SOUL dancing.]\n",
    "\n",
    "**Soc.** Some of them were priests and priestesses, who had studied how they might be able to give a reason of their profession. There, have been poets also, who spoke of these things by inspiration. And they say that the soul of man is immortal, and at one time has an end, which is termed dying, and at another time is born again, but is never destroyed. ... The soul, then, as being immortal, and having been born again many times, and having seen all things that exist, whether in this world or in the world below, has knowledge of them all. \n",
    "\n",
    "[SOUL pantomines uncovery.]\n",
    "\n",
    "It is no wonder that she should be able to call to remembrance all that she ever knew about everything. For as all nature is akin, and the soul has learned all things; there is no difficulty in her eliciting or as men say learning, out of a single recollection all the rest, if a man is strenuous and does not faint.\n",
    "\n",
    "_For all enquiry and all learning is but uncovery._\n",
    "\n",
    "[Fade back to SOCRATES speaking]\n",
    "\n",
    "And therefore we ought not to listen to this sophistical argument about the impossibility of enquiry: for it will make us idle; and is sweet only to the sluggard. Much better to be active and inquisitive. \n",
    "\n",
    "**Men.** [Baiting Socrates] Yes; but what do you mean by saying that we do not learn, and that what we call learning is only a process of uncovery? Can you teach me how this is?\n",
    "\n",
    "**Soc.** [[INTERPERSONAL TRANSITIVE ACTION VERB #2]'s Meno] I told you, just now that you were a rogue, and now you ask whether I can teach you, when I am saying that there is no teaching, but only uncovery; and thus you imagine that you will involve me in a contradiction.\n",
    "\n",
    "**Men.** [Lying.] Indeed, I protest that I had no such intention. I only asked the question from habit; but if you can prove to me that what you say is true, I wish that you would.\n",
    "\n",
    "**Soc.** [Expressing [EMOTION #1]] It will be no easy matter, but I will try to please you to the utmost of my power. Suppose that you call one of your numerous attendants, that I may demonstrate on him."
   ]
  },
  {
   "cell_type": "markdown",
   "metadata": {},
   "source": [
    "## Act 2\n",
    "\n",
    "### Scene 1\n",
    "\n",
    "[Elsewhere, in [ROOM #2].]\n",
    "\n",
    "**Men.** Come hither!\n",
    "\n",
    "[BOY enters, dancing in a mortal way that is a faint echo of the dance of the immortal soul.]\n",
    "\n",
    "**Soc.** Attend now to the questions which I ask him, and observe whether he learns of me or only remembers.\n",
    "\n",
    "**Men.** I will."
   ]
  },
  {
   "cell_type": "code",
   "execution_count": 2,
   "metadata": {},
   "outputs": [
    {
     "data": {
      "image/svg+xml": [
       "<svg height=\"240px\" version=\"1.1\" viewBox=\"0 0 57.49 57.49\" width=\"400px\" xmlns=\"http://www.w3.org/2000/svg\" xmlns:xlink=\"http://www.w3.org/1999/xlink\">\n",
       "<defs>\n",
       "<clipPath id=\"clip1\">\n",
       "  <path d=\"M 0 0 L 57.488281 0 L 57.488281 57.488281 L 0 57.488281 Z M 0 0 \"/>\n",
       "</clipPath>\n",
       "</defs>\n",
       "<g id=\"surface1\">\n",
       "<g clip-path=\"url(#clip1)\" clip-rule=\"nonzero\">\n",
       "<path d=\"M 0.0004375 0.00115625 L 0.0004375 56.692563 L 56.691844 56.692563 L 56.691844 0.00115625 Z M 0.0004375 0.00115625 \" style=\"fill:none;stroke-width:0.79701;stroke-linecap:butt;stroke-linejoin:miter;stroke:rgb(0%,0%,100%);stroke-opacity:1;stroke-miterlimit:10;\" transform=\"matrix(1,0,0,-1,0.398,57.091)\"/>\n",
       "</g>\n",
       "</g>\n",
       "</svg>"
      ]
     },
     "metadata": {
      "isolated": "true"
     },
     "output_type": "display_data"
    }
   ],
   "source": [
    "%%tikz -f svg\n",
    "\n",
    "\\draw[blue, thick] (0,0) rectangle (2,2);"
   ]
  },
  {
   "cell_type": "markdown",
   "metadata": {},
   "source": [
    "**Soc.** Tell me, boy, do you know that a figure like this is a square?\n",
    "\n",
    "**Boy.** {YES}\n",
    "\n",
    "**Soc.** And you know that a square figure has these four lines equal?\n",
    "\n",
    "**Boy.** {YES}"
   ]
  },
  {
   "cell_type": "code",
   "execution_count": 3,
   "metadata": {},
   "outputs": [
    {
     "data": {
      "image/svg+xml": [
       "<svg height=\"240px\" version=\"1.1\" viewBox=\"0 0 57.49 57.49\" width=\"400px\" xmlns=\"http://www.w3.org/2000/svg\" xmlns:xlink=\"http://www.w3.org/1999/xlink\">\n",
       "<defs>\n",
       "<clipPath id=\"clip1\">\n",
       "  <path d=\"M 0 0 L 57.488281 0 L 57.488281 57.488281 L 0 57.488281 Z M 0 0 \"/>\n",
       "</clipPath>\n",
       "<clipPath id=\"clip2\">\n",
       "  <path d=\"M 28 0 L 29 0 L 29 57.488281 L 28 57.488281 Z M 28 0 \"/>\n",
       "</clipPath>\n",
       "<clipPath id=\"clip3\">\n",
       "  <path d=\"M 0 28 L 57.488281 28 L 57.488281 29 L 0 29 Z M 0 28 \"/>\n",
       "</clipPath>\n",
       "</defs>\n",
       "<g id=\"surface1\">\n",
       "<g clip-path=\"url(#clip1)\" clip-rule=\"nonzero\">\n",
       "<path d=\"M 0.0004375 0.00115625 L 0.0004375 56.692563 L 56.691844 56.692563 L 56.691844 0.00115625 Z M 0.0004375 0.00115625 \" style=\"fill:none;stroke-width:0.79701;stroke-linecap:butt;stroke-linejoin:miter;stroke:rgb(0%,0%,100%);stroke-opacity:1;stroke-miterlimit:10;\" transform=\"matrix(1,0,0,-1,0.398,57.091)\"/>\n",
       "</g>\n",
       "<g clip-path=\"url(#clip2)\" clip-rule=\"nonzero\">\n",
       "<path d=\"M 28.348094 0.00115625 L 28.348094 56.692563 \" style=\"fill:none;stroke-width:0.3985;stroke-linecap:butt;stroke-linejoin:miter;stroke:rgb(50%,50%,50%);stroke-opacity:1;stroke-dasharray:0.3985,1.99255;stroke-miterlimit:10;\" transform=\"matrix(1,0,0,-1,0.398,57.091)\"/>\n",
       "</g>\n",
       "<g clip-path=\"url(#clip3)\" clip-rule=\"nonzero\">\n",
       "<path d=\"M 0.0004375 28.344906 L 56.691844 28.344906 \" style=\"fill:none;stroke-width:0.3985;stroke-linecap:butt;stroke-linejoin:miter;stroke:rgb(50%,50%,50%);stroke-opacity:1;stroke-dasharray:0.3985,1.99255;stroke-miterlimit:10;\" transform=\"matrix(1,0,0,-1,0.398,57.091)\"/>\n",
       "</g>\n",
       "</g>\n",
       "</svg>"
      ]
     },
     "metadata": {
      "isolated": "true"
     },
     "output_type": "display_data"
    }
   ],
   "source": [
    "%%tikz -f svg\n",
    "\n",
    "\\draw[blue, thick] (0,0) rectangle (2,2);\n",
    "\\draw[gray, dotted] (1,0) -- (1,2);\n",
    "\\draw[gray, dotted] (0,1) -- (2,1);"
   ]
  },
  {
   "cell_type": "markdown",
   "metadata": {},
   "source": [
    "**Soc.** And these lines which I have drawn through the middle of the square are also equal?\n",
    "\n",
    "**Boy.** {YES}\n",
    "\n",
    "**Soc.** A square may be of any size?\n",
    "\n",
    "**Boy.** {YES}\n",
    "\n",
    "**Soc.** And if one side of the figure be of two feet, and the other side be of two feet, how much will the whole be? Let me explain: if in one direction the space was of two feet, and in other direction of one foot, the whole would be of two feet taken once?\n",
    "\n",
    "**Boy.** {YES}\n",
    "\n",
    "**Soc.** But since this side is also of two feet, there are twice two feet?\n",
    "\n",
    "**Boy.** {YES}\n",
    "\n",
    "**Soc.** Then the square is of twice two feet?\n",
    "\n",
    "**Boy.** {YES}\n",
    "\n",
    "**Soc.** And how many are twice two feet? Count and tell me.\n",
    "\n",
    "**Boy.** {4}\n",
    "\n",
    "**Soc.** And might there not be another square twice as large as this, and having like this the lines equal?\n",
    "\n",
    "**Boy.** {YES}\n",
    "\n",
    "**Soc.** And of how many feet will that be?\n",
    "\n",
    "**Boy.** {8}\n",
    "\n",
    "**Soc.** And now try and tell me the length of the line which forms the side of that double square: this is two feet-what will that be?\n"
   ]
  },
  {
   "cell_type": "markdown",
   "metadata": {},
   "source": [
    "[BOY stops dancing. There is a long pause]\n",
    "\n",
    "[Ominous music. Changes in lighting. Something has gone seriously wrong with the universe.]"
   ]
  },
  {
   "cell_type": "markdown",
   "metadata": {},
   "source": [
    "**Boy.** _Clearly, it will be double._\n",
    "\n",
    "**Soc.** Do you observe, Meno, that I am not teaching the boy anything, but only asking him questions; and now he fancies that he knows how long a line is necessary in order to produce a figure of eight square feet; does he not?\n",
    "\n",
    "**Men.** Yes.\n",
    "\n",
    "**Soc.** And does he really know?\n",
    "\n",
    "**Men.** Certainly not. He only guesses that because the square is double, the line is double."
   ]
  },
  {
   "cell_type": "markdown",
   "metadata": {},
   "source": [
    "### Scene 2\n",
    "\n",
    "**Soc.** Observe him while he recalls the steps in regular order. (To the Boy.) Tell me, boy, do you assert that a double space comes from a double line? Remember that I am not speaking of an oblong, but of a figure equal every way, and twice the size of this-that is to say of eight feet; and I want to know whether you still say that a double square comes from double line?\n",
    "\n",
    "[Boy resumes dancing in a muted, subtle way.]\n",
    "\n",
    "[Throughout this interaction, SOCRATES acts with more and more [EMOTION #1] while the BOY acts with more and more [EMOTION #2]. The scene is charged. Perhaps excessively. The music begins again, first very subtle but with a gradual crescendo.]\n",
    "\n",
    "**Boy.** {YES}\n",
    "\n",
    "**Soc.** But does not this line become doubled if we add another such line here?"
   ]
  },
  {
   "cell_type": "code",
   "execution_count": 4,
   "metadata": {},
   "outputs": [
    {
     "data": {
      "image/svg+xml": [
       "<svg height=\"240px\" version=\"1.1\" viewBox=\"0 0 114.183 114.183\" width=\"400px\" xmlns=\"http://www.w3.org/2000/svg\" xmlns:xlink=\"http://www.w3.org/1999/xlink\">\n",
       "<defs>\n",
       "<clipPath id=\"clip1\">\n",
       "  <path d=\"M 0 56 L 58 56 L 58 114.183594 L 0 114.183594 Z M 0 56 \"/>\n",
       "</clipPath>\n",
       "</defs>\n",
       "<g id=\"surface1\">\n",
       "<path d=\"M 0.0004375 -0.00115625 L 0.0004375 113.385562 L 113.387156 113.385562 L 113.387156 -0.00115625 Z M 0.0004375 -0.00115625 \" style=\"fill:none;stroke-width:0.79701;stroke-linecap:butt;stroke-linejoin:miter;stroke:rgb(0%,0%,0%);stroke-opacity:1;stroke-miterlimit:10;\" transform=\"matrix(1,0,0,-1,0.398,113.784)\"/>\n",
       "<g clip-path=\"url(#clip1)\" clip-rule=\"nonzero\">\n",
       "<path d=\"M 0.0004375 -0.00115625 L 0.0004375 56.694156 L 56.691844 56.694156 L 56.691844 -0.00115625 Z M 0.0004375 -0.00115625 \" style=\"fill:none;stroke-width:0.79701;stroke-linecap:butt;stroke-linejoin:miter;stroke:rgb(0%,0%,100%);stroke-opacity:1;stroke-miterlimit:10;\" transform=\"matrix(1,0,0,-1,0.398,113.784)\"/>\n",
       "</g>\n",
       "<path d=\"M 28.348094 -0.00115625 L 28.348094 56.694156 \" style=\"fill:none;stroke-width:0.3985;stroke-linecap:butt;stroke-linejoin:miter;stroke:rgb(50%,50%,50%);stroke-opacity:1;stroke-dasharray:0.3985,1.99255;stroke-miterlimit:10;\" transform=\"matrix(1,0,0,-1,0.398,113.784)\"/>\n",
       "<path d=\"M 0.0004375 28.3465 L 56.691844 28.3465 \" style=\"fill:none;stroke-width:0.3985;stroke-linecap:butt;stroke-linejoin:miter;stroke:rgb(50%,50%,50%);stroke-opacity:1;stroke-dasharray:0.3985,1.99255;stroke-miterlimit:10;\" transform=\"matrix(1,0,0,-1,0.398,113.784)\"/>\n",
       "</g>\n",
       "</svg>"
      ]
     },
     "metadata": {
      "isolated": "true"
     },
     "output_type": "display_data"
    }
   ],
   "source": [
    "%%tikz -f svg\n",
    "\n",
    "\n",
    "\\draw[black, thick] (0,0) rectangle (4,4);\n",
    "\\draw[blue, thick] (0,0) rectangle (2,2);\n",
    "\\draw[gray, dotted] (1,0) -- (1,2);\n",
    "\\draw[gray, dotted] (0,1) -- (2,1);"
   ]
  },
  {
   "cell_type": "markdown",
   "metadata": {},
   "source": [
    "**Boy.** {YES}\n",
    "\n",
    "**Soc.** And four such lines will make a space containing eight feet?\n",
    "\n",
    "**Boy.** {YES}\n",
    "\n",
    "**Soc.** Let us describe such a figure: Would you not say that this is the figure of eight feet?\n",
    "\n",
    "**Boy.** {YES}\n",
    "\n",
    "**Soc.** And are there not these four divisions in the figure, each of which is equal to the figure of four feet?\n",
    "\n",
    "**Boy.** {YES}\n",
    "\n",
    "**Soc.** And is not that four times four?\n",
    "\n",
    "**Boy.** {YES}\n",
    "\n",
    "**Soc.** And four times is not double?\n",
    "\n",
    "**Boy.** {NO}\n",
    "\n",
    "**Soc.** But how much?\n",
    "\n",
    "**Boy.** {4}\n",
    "\n",
    "[Music picks up. SOCRATES continues to bear down, now with hints of [EMOTION #3]. SOCRATES begins to glow [COLOR]]\n",
    "\n",
    "**Soc.** Therefore the double line, boy, has given a space, not twice, but four times as much.\n",
    "\n",
    "**Boy.** {YES}\n",
    "\n",
    "**Soc.** Four times four are sixteen-are they not?\n",
    "\n",
    "**Boy.** {YES}\n",
    "\n",
    "**Soc.** What line would give you a space of right feet, as this gives one of sixteen feet;-do you see?\n",
    "\n",
    "**Boy.** {YES}\n",
    "\n",
    "**Soc.** And the space of four feet is made from this half line?\n",
    "\n",
    "**Boy.** {YES}\n",
    "\n",
    "**Soc.** Good; and is not a space of eight feet twice the size of this, and half the size of the other?\n",
    "\n",
    "**Boy.** {YES}\n",
    "\n",
    "**Soc.** Such a space, then, will be made out of a line greater than this one, and less than that one?\n",
    "\n",
    "**Boy.** {YES}\n",
    "\n",
    "**Soc.** Very good; I like to hear you say what you think. And now tell me, is not this a line of two feet and that of four?\n",
    "\n",
    "**Boy.** {YES}\n",
    "\n",
    "**Soc.** Then the line which forms the side of eight feet ought to be more than this line of two feet, and less than the other of four feet?\n",
    "\n",
    "**Boy.** {YES}\n",
    "\n",
    "**Soc.** Try and see if you can tell me how much it will be.\n",
    "\n",
    "**Boy.** {3}\n",
    "\n",
    "**Soc.** Then if we add a half to this line of two, that will be the line of three. Here are two and there is one; and on the other side, here are two also and there is one: and that makes the figure of which you speak?"
   ]
  },
  {
   "cell_type": "code",
   "execution_count": 5,
   "metadata": {},
   "outputs": [
    {
     "data": {
      "image/svg+xml": [
       "<svg height=\"240px\" version=\"1.1\" viewBox=\"0 0 114.183 114.183\" width=\"400px\" xmlns=\"http://www.w3.org/2000/svg\" xmlns:xlink=\"http://www.w3.org/1999/xlink\">\n",
       "<defs>\n",
       "<clipPath id=\"clip1\">\n",
       "  <path d=\"M 0 28 L 86 28 L 86 114.183594 L 0 114.183594 Z M 0 28 \"/>\n",
       "</clipPath>\n",
       "<clipPath id=\"clip2\">\n",
       "  <path d=\"M 0 56 L 58 56 L 58 114.183594 L 0 114.183594 Z M 0 56 \"/>\n",
       "</clipPath>\n",
       "</defs>\n",
       "<g id=\"surface1\">\n",
       "<path d=\"M 0.0004375 -0.00115625 L 0.0004375 113.385562 L 113.387156 113.385562 L 113.387156 -0.00115625 Z M 0.0004375 -0.00115625 \" style=\"fill:none;stroke-width:0.79701;stroke-linecap:butt;stroke-linejoin:miter;stroke:rgb(0%,0%,0%);stroke-opacity:1;stroke-miterlimit:10;\" transform=\"matrix(1,0,0,-1,0.398,113.784)\"/>\n",
       "<g clip-path=\"url(#clip1)\" clip-rule=\"nonzero\">\n",
       "<path d=\"M 0.0004375 -0.00115625 L 0.0004375 85.041812 L 85.0395 85.041812 L 85.0395 -0.00115625 Z M 0.0004375 -0.00115625 \" style=\"fill:none;stroke-width:0.79701;stroke-linecap:butt;stroke-linejoin:miter;stroke:rgb(0%,67.83905%,93.728638%);stroke-opacity:1;stroke-miterlimit:10;\" transform=\"matrix(1,0,0,-1,0.398,113.784)\"/>\n",
       "</g>\n",
       "<g clip-path=\"url(#clip2)\" clip-rule=\"nonzero\">\n",
       "<path d=\"M 0.0004375 -0.00115625 L 0.0004375 56.694156 L 56.691844 56.694156 L 56.691844 -0.00115625 Z M 0.0004375 -0.00115625 \" style=\"fill:none;stroke-width:0.79701;stroke-linecap:butt;stroke-linejoin:miter;stroke:rgb(0%,0%,100%);stroke-opacity:1;stroke-miterlimit:10;\" transform=\"matrix(1,0,0,-1,0.398,113.784)\"/>\n",
       "</g>\n",
       "<path d=\"M 28.348094 -0.00115625 L 28.348094 56.694156 \" style=\"fill:none;stroke-width:0.3985;stroke-linecap:butt;stroke-linejoin:miter;stroke:rgb(50%,50%,50%);stroke-opacity:1;stroke-dasharray:0.3985,1.99255;stroke-miterlimit:10;\" transform=\"matrix(1,0,0,-1,0.398,113.784)\"/>\n",
       "<path d=\"M 0.0004375 28.3465 L 56.691844 28.3465 \" style=\"fill:none;stroke-width:0.3985;stroke-linecap:butt;stroke-linejoin:miter;stroke:rgb(50%,50%,50%);stroke-opacity:1;stroke-dasharray:0.3985,1.99255;stroke-miterlimit:10;\" transform=\"matrix(1,0,0,-1,0.398,113.784)\"/>\n",
       "</g>\n",
       "</svg>"
      ]
     },
     "metadata": {
      "isolated": "true"
     },
     "output_type": "display_data"
    }
   ],
   "source": [
    "%%tikz -f svg\n",
    "\n",
    "\n",
    "\\draw[black, thick] (0,0) rectangle (4,4);\n",
    "\\draw[cyan, thick] (0,0) rectangle (3,3);\n",
    "\\draw[blue, thick] (0,0) rectangle (2,2);\n",
    "\\draw[gray, dotted] (1,0) -- (1,2);\n",
    "\\draw[gray, dotted] (0,1) -- (2,1);"
   ]
  },
  {
   "cell_type": "markdown",
   "metadata": {},
   "source": [
    "**Boy.** {YES}\n",
    "\n",
    "**Soc.** But if there are three feet this way and three feet that way, the whole space will be three times three feet?\n",
    "\n",
    "**Boy.** {YES}\n",
    "\n",
    "**Soc.** And how much are three times three feet?"
   ]
  },
  {
   "cell_type": "code",
   "execution_count": 6,
   "metadata": {},
   "outputs": [
    {
     "data": {
      "image/svg+xml": [
       "<svg height=\"240px\" version=\"1.1\" viewBox=\"0 0 114.183 114.183\" width=\"400px\" xmlns=\"http://www.w3.org/2000/svg\" xmlns:xlink=\"http://www.w3.org/1999/xlink\">\n",
       "<defs>\n",
       "<clipPath id=\"clip1\">\n",
       "  <path d=\"M 0 28 L 86 28 L 86 114.183594 L 0 114.183594 Z M 0 28 \"/>\n",
       "</clipPath>\n",
       "<clipPath id=\"clip2\">\n",
       "  <path d=\"M 0 56 L 58 56 L 58 114.183594 L 0 114.183594 Z M 0 56 \"/>\n",
       "</clipPath>\n",
       "</defs>\n",
       "<g id=\"surface1\">\n",
       "<path d=\"M 0.0004375 -0.00115625 L 0.0004375 113.385562 L 113.387156 113.385562 L 113.387156 -0.00115625 Z M 0.0004375 -0.00115625 \" style=\"fill:none;stroke-width:0.79701;stroke-linecap:butt;stroke-linejoin:miter;stroke:rgb(0%,0%,0%);stroke-opacity:1;stroke-miterlimit:10;\" transform=\"matrix(1,0,0,-1,0.398,113.784)\"/>\n",
       "<g clip-path=\"url(#clip1)\" clip-rule=\"nonzero\">\n",
       "<path d=\"M 0.0004375 -0.00115625 L 0.0004375 85.041812 L 85.0395 85.041812 L 85.0395 -0.00115625 Z M 0.0004375 -0.00115625 \" style=\"fill:none;stroke-width:0.79701;stroke-linecap:butt;stroke-linejoin:miter;stroke:rgb(0%,67.83905%,93.728638%);stroke-opacity:1;stroke-miterlimit:10;\" transform=\"matrix(1,0,0,-1,0.398,113.784)\"/>\n",
       "</g>\n",
       "<g clip-path=\"url(#clip2)\" clip-rule=\"nonzero\">\n",
       "<path d=\"M 0.0004375 -0.00115625 L 0.0004375 56.694156 L 56.691844 56.694156 L 56.691844 -0.00115625 Z M 0.0004375 -0.00115625 \" style=\"fill:none;stroke-width:0.79701;stroke-linecap:butt;stroke-linejoin:miter;stroke:rgb(0%,0%,100%);stroke-opacity:1;stroke-miterlimit:10;\" transform=\"matrix(1,0,0,-1,0.398,113.784)\"/>\n",
       "</g>\n",
       "<path d=\"M 28.348094 -0.00115625 L 28.348094 85.041812 \" style=\"fill:none;stroke-width:0.3985;stroke-linecap:butt;stroke-linejoin:miter;stroke:rgb(50%,50%,50%);stroke-opacity:1;stroke-dasharray:0.3985,1.99255;stroke-miterlimit:10;\" transform=\"matrix(1,0,0,-1,0.398,113.784)\"/>\n",
       "<path d=\"M 0.0004375 28.3465 L 85.0395 28.3465 \" style=\"fill:none;stroke-width:0.3985;stroke-linecap:butt;stroke-linejoin:miter;stroke:rgb(50%,50%,50%);stroke-opacity:1;stroke-dasharray:0.3985,1.99255;stroke-miterlimit:10;\" transform=\"matrix(1,0,0,-1,0.398,113.784)\"/>\n",
       "<path d=\"M 56.691844 -0.00115625 L 56.691844 85.041812 \" style=\"fill:none;stroke-width:0.3985;stroke-linecap:butt;stroke-linejoin:miter;stroke:rgb(50%,50%,50%);stroke-opacity:1;stroke-dasharray:0.3985,1.99255;stroke-miterlimit:10;\" transform=\"matrix(1,0,0,-1,0.398,113.784)\"/>\n",
       "<path d=\"M 0.0004375 56.694156 L 85.0395 56.694156 \" style=\"fill:none;stroke-width:0.3985;stroke-linecap:butt;stroke-linejoin:miter;stroke:rgb(50%,50%,50%);stroke-opacity:1;stroke-dasharray:0.3985,1.99255;stroke-miterlimit:10;\" transform=\"matrix(1,0,0,-1,0.398,113.784)\"/>\n",
       "</g>\n",
       "</svg>"
      ]
     },
     "metadata": {
      "isolated": "true"
     },
     "output_type": "display_data"
    }
   ],
   "source": [
    "%%tikz -f svg\n",
    "\n",
    "\\draw[black, thick] (0,0) rectangle (4,4);\n",
    "\\draw[cyan, thick] (0,0) rectangle (3,3);\n",
    "\\draw[blue, thick] (0,0) rectangle (2,2);\n",
    "\\draw[gray, dotted] (1,0) -- (1,3);\n",
    "\\draw[gray, dotted] (0,1) -- (3,1);\n",
    "\\draw[gray, dotted] (2,0) -- (2,3);\n",
    "\\draw[gray, dotted] (0,2) -- (3,2);"
   ]
  },
  {
   "cell_type": "markdown",
   "metadata": {},
   "source": [
    "[SOCRATES is glowing brighter. The music is intense. A storm is brewing.]\n",
    "\n",
    "**Boy.** {9}\n",
    "\n",
    "**Soc.** And how much is the double of four?\n",
    "\n",
    "**Boy.** {8}\n",
    "\n",
    "**Soc.** Then the figure of eight is not made out of a of three?\n",
    "\n",
    "**Boy.** {No}\n",
    "\n",
    "[Crash. Bang. Percussion. BOY freezes. SOCRATES erupts into a very powerful dance. A video montage: an electric stingray stunning its prey; a magnetic compass; a storm over the sea with lightning flashing; a filiment flickering behind a Fresnel lens; a lighthouse brightening its light and arcing it over stormy waters. ]\n",
    "\n",
    "**Soc.** [shouting over the thunder.] But from what line? Tell me exactly; and if you would rather not reckon, try and show me the line.\n",
    "\n",
    "**Boy.** _Indeed, I do not know._\n",
    "\n",
    "[Music silences. The scene restores to the tone of the original contemplative dialog.]\n",
    "\n",
    "**Soc.** Do you see, Meno, what advances he has made in his power of uncovery? He did not know at first, and he does not know now, what is the side of a figure of eight feet: but then he thought that he knew, and answered confidently as if he knew, and had no difficulty; now he has a difficulty, and neither knows nor fancies that he knows.\n",
    "\n",
    "**Men.** True.\n",
    "\n",
    "**Soc.** Is he not better off in knowing his ignorance?\n",
    "\n",
    "**Men.** [Meno's responses are thoughtful. Deliberate. Perhaps political.] I think that he is.\n",
    "\n",
    "**Soc.** If we have made him doubt, and given him the \"electric shock,\" have we done him any harm?\n",
    "\n",
    "**Men.** I think not.\n",
    "\n",
    "**Soc.** We have certainly, as would seem, assisted him in some degree to the discovery of the truth; and now he will wish to remedy his ignorance, but then he would have been ready to tell all the world again and again that the double space should have a double side.\n",
    "\n",
    "**Men.** True.\n",
    "\n",
    "**Soc.** But do you suppose that he would ever have enquired into or learned what he fancied that he knew, though he was really ignorant of it, until he had fallen into perplexity under the idea that he did not know, and had desired to know?\n",
    "\n",
    "**Men.** I think not.\n",
    "\n",
    "**Soc.** Then he was the better for the electric touch?\n",
    "\n",
    "**Men.** I think so.\n",
    "\n",
    "**Soc.** Mark now the farther development. I shall only ask him, and not teach him, and he shall share the enquiry with me: and do you watch and see if you find me telling or explaining anything to him, instead of eliciting his opinion. Tell me, boy, is not this a square of four feet which I have drawn?"
   ]
  },
  {
   "cell_type": "code",
   "execution_count": 7,
   "metadata": {},
   "outputs": [
    {
     "data": {
      "image/svg+xml": [
       "<svg height=\"240px\" version=\"1.1\" viewBox=\"0 0 57.49 57.49\" width=\"400px\" xmlns=\"http://www.w3.org/2000/svg\" xmlns:xlink=\"http://www.w3.org/1999/xlink\">\n",
       "<defs>\n",
       "<clipPath id=\"clip1\">\n",
       "  <path d=\"M 0 0 L 57.488281 0 L 57.488281 57.488281 L 0 57.488281 Z M 0 0 \"/>\n",
       "</clipPath>\n",
       "<clipPath id=\"clip2\">\n",
       "  <path d=\"M 28 0 L 29 0 L 29 57.488281 L 28 57.488281 Z M 28 0 \"/>\n",
       "</clipPath>\n",
       "<clipPath id=\"clip3\">\n",
       "  <path d=\"M 0 28 L 57.488281 28 L 57.488281 29 L 0 29 Z M 0 28 \"/>\n",
       "</clipPath>\n",
       "</defs>\n",
       "<g id=\"surface1\">\n",
       "<g clip-path=\"url(#clip1)\" clip-rule=\"nonzero\">\n",
       "<path d=\"M 0.0004375 0.00115625 L 0.0004375 56.692563 L 56.691844 56.692563 L 56.691844 0.00115625 Z M 0.0004375 0.00115625 \" style=\"fill:none;stroke-width:0.79701;stroke-linecap:butt;stroke-linejoin:miter;stroke:rgb(0%,0%,100%);stroke-opacity:1;stroke-miterlimit:10;\" transform=\"matrix(1,0,0,-1,0.398,57.091)\"/>\n",
       "</g>\n",
       "<g clip-path=\"url(#clip2)\" clip-rule=\"nonzero\">\n",
       "<path d=\"M 28.348094 0.00115625 L 28.348094 56.692563 \" style=\"fill:none;stroke-width:0.3985;stroke-linecap:butt;stroke-linejoin:miter;stroke:rgb(50%,50%,50%);stroke-opacity:1;stroke-dasharray:0.3985,1.99255;stroke-miterlimit:10;\" transform=\"matrix(1,0,0,-1,0.398,57.091)\"/>\n",
       "</g>\n",
       "<g clip-path=\"url(#clip3)\" clip-rule=\"nonzero\">\n",
       "<path d=\"M 0.0004375 28.344906 L 56.691844 28.344906 \" style=\"fill:none;stroke-width:0.3985;stroke-linecap:butt;stroke-linejoin:miter;stroke:rgb(50%,50%,50%);stroke-opacity:1;stroke-dasharray:0.3985,1.99255;stroke-miterlimit:10;\" transform=\"matrix(1,0,0,-1,0.398,57.091)\"/>\n",
       "</g>\n",
       "</g>\n",
       "</svg>"
      ]
     },
     "metadata": {
      "isolated": "true"
     },
     "output_type": "display_data"
    }
   ],
   "source": [
    "%%tikz -f svg\n",
    "\n",
    "\\draw[blue, thick] (0,0) rectangle (2,2);\n",
    "\\draw[gray, dotted] (1,0) -- (1,2);\n",
    "\\draw[gray, dotted] (0,1) -- (2,1);"
   ]
  },
  {
   "cell_type": "markdown",
   "metadata": {},
   "source": [
    "**Boy.** {YES}\n",
    "\n",
    "**Soc.** And now I add another square equal to the former one?"
   ]
  },
  {
   "cell_type": "code",
   "execution_count": 8,
   "metadata": {},
   "outputs": [
    {
     "data": {
      "image/svg+xml": [
       "<svg height=\"240px\" version=\"1.1\" viewBox=\"0 0 57.49 114.183\" width=\"400px\" xmlns=\"http://www.w3.org/2000/svg\" xmlns:xlink=\"http://www.w3.org/1999/xlink\">\n",
       "<defs>\n",
       "<clipPath id=\"clip1\">\n",
       "  <path d=\"M 0 56 L 57.488281 56 L 57.488281 114.183594 L 0 114.183594 Z M 0 56 \"/>\n",
       "</clipPath>\n",
       "<clipPath id=\"clip2\">\n",
       "  <path d=\"M 0 0 L 57.488281 0 L 57.488281 58 L 0 58 Z M 0 0 \"/>\n",
       "</clipPath>\n",
       "<clipPath id=\"clip3\">\n",
       "  <path d=\"M 0 85 L 57.488281 85 L 57.488281 86 L 0 86 Z M 0 85 \"/>\n",
       "</clipPath>\n",
       "</defs>\n",
       "<g id=\"surface1\">\n",
       "<g clip-path=\"url(#clip1)\" clip-rule=\"nonzero\">\n",
       "<path d=\"M 0.0004375 -0.00115625 L 0.0004375 56.694156 L 56.691844 56.694156 L 56.691844 -0.00115625 Z M 0.0004375 -0.00115625 \" style=\"fill:none;stroke-width:0.79701;stroke-linecap:butt;stroke-linejoin:miter;stroke:rgb(0%,0%,100%);stroke-opacity:1;stroke-miterlimit:10;\" transform=\"matrix(1,0,0,-1,0.398,113.784)\"/>\n",
       "</g>\n",
       "<g clip-path=\"url(#clip2)\" clip-rule=\"nonzero\">\n",
       "<path d=\"M 0.0004375 56.694156 L 0.0004375 113.385562 L 56.691844 113.385562 L 56.691844 56.694156 Z M 0.0004375 56.694156 \" style=\"fill:none;stroke-width:0.79701;stroke-linecap:butt;stroke-linejoin:miter;stroke:rgb(0%,0%,100%);stroke-opacity:1;stroke-miterlimit:10;\" transform=\"matrix(1,0,0,-1,0.398,113.784)\"/>\n",
       "</g>\n",
       "<path d=\"M 28.348094 -0.00115625 L 28.348094 56.694156 \" style=\"fill:none;stroke-width:0.3985;stroke-linecap:butt;stroke-linejoin:miter;stroke:rgb(50%,50%,50%);stroke-opacity:1;stroke-dasharray:0.3985,1.99255;stroke-miterlimit:10;\" transform=\"matrix(1,0,0,-1,0.398,113.784)\"/>\n",
       "<g clip-path=\"url(#clip3)\" clip-rule=\"nonzero\">\n",
       "<path d=\"M 0.0004375 28.3465 L 56.691844 28.3465 \" style=\"fill:none;stroke-width:0.3985;stroke-linecap:butt;stroke-linejoin:miter;stroke:rgb(50%,50%,50%);stroke-opacity:1;stroke-dasharray:0.3985,1.99255;stroke-miterlimit:10;\" transform=\"matrix(1,0,0,-1,0.398,113.784)\"/>\n",
       "</g>\n",
       "</g>\n",
       "</svg>"
      ]
     },
     "metadata": {
      "isolated": "true"
     },
     "output_type": "display_data"
    }
   ],
   "source": [
    "%%tikz -f svg\n",
    "\n",
    "\\draw[blue, thick] (0,0) rectangle (2,2);\n",
    "\\draw[blue, thick] (0,2) rectangle (2,4);\n",
    "\\draw[gray, dotted] (1,0) -- (1,2);\n",
    "\\draw[gray, dotted] (0,1) -- (2,1);"
   ]
  },
  {
   "cell_type": "markdown",
   "metadata": {},
   "source": [
    "**Boy.** {YES}\n",
    "\n",
    "**Soc.** And a third, which is equal to either of them?"
   ]
  },
  {
   "cell_type": "code",
   "execution_count": 9,
   "metadata": {},
   "outputs": [
    {
     "data": {
      "image/svg+xml": [
       "<svg height=\"240px\" version=\"1.1\" viewBox=\"0 0 114.183 114.183\" width=\"400px\" xmlns=\"http://www.w3.org/2000/svg\" xmlns:xlink=\"http://www.w3.org/1999/xlink\">\n",
       "<defs>\n",
       "<clipPath id=\"clip1\">\n",
       "  <path d=\"M 0 56 L 58 56 L 58 114.183594 L 0 114.183594 Z M 0 56 \"/>\n",
       "</clipPath>\n",
       "<clipPath id=\"clip2\">\n",
       "  <path d=\"M 56 56 L 114.183594 56 L 114.183594 114.183594 L 56 114.183594 Z M 56 56 \"/>\n",
       "</clipPath>\n",
       "</defs>\n",
       "<g id=\"surface1\">\n",
       "<g clip-path=\"url(#clip1)\" clip-rule=\"nonzero\">\n",
       "<path d=\"M 0.0004375 -0.00115625 L 0.0004375 56.694156 L 56.691844 56.694156 L 56.691844 -0.00115625 Z M 0.0004375 -0.00115625 \" style=\"fill:none;stroke-width:0.79701;stroke-linecap:butt;stroke-linejoin:miter;stroke:rgb(0%,0%,100%);stroke-opacity:1;stroke-miterlimit:10;\" transform=\"matrix(1,0,0,-1,0.398,113.784)\"/>\n",
       "</g>\n",
       "<path d=\"M 0.0004375 56.694156 L 0.0004375 113.385562 L 56.691844 113.385562 L 56.691844 56.694156 Z M 0.0004375 56.694156 \" style=\"fill:none;stroke-width:0.79701;stroke-linecap:butt;stroke-linejoin:miter;stroke:rgb(0%,0%,100%);stroke-opacity:1;stroke-miterlimit:10;\" transform=\"matrix(1,0,0,-1,0.398,113.784)\"/>\n",
       "<g clip-path=\"url(#clip2)\" clip-rule=\"nonzero\">\n",
       "<path d=\"M 56.691844 -0.00115625 L 56.691844 56.694156 L 113.387156 56.694156 L 113.387156 -0.00115625 Z M 56.691844 -0.00115625 \" style=\"fill:none;stroke-width:0.79701;stroke-linecap:butt;stroke-linejoin:miter;stroke:rgb(0%,0%,100%);stroke-opacity:1;stroke-miterlimit:10;\" transform=\"matrix(1,0,0,-1,0.398,113.784)\"/>\n",
       "</g>\n",
       "<path d=\"M 28.348094 -0.00115625 L 28.348094 56.694156 \" style=\"fill:none;stroke-width:0.3985;stroke-linecap:butt;stroke-linejoin:miter;stroke:rgb(50%,50%,50%);stroke-opacity:1;stroke-dasharray:0.3985,1.99255;stroke-miterlimit:10;\" transform=\"matrix(1,0,0,-1,0.398,113.784)\"/>\n",
       "<path d=\"M 0.0004375 28.3465 L 56.691844 28.3465 \" style=\"fill:none;stroke-width:0.3985;stroke-linecap:butt;stroke-linejoin:miter;stroke:rgb(50%,50%,50%);stroke-opacity:1;stroke-dasharray:0.3985,1.99255;stroke-miterlimit:10;\" transform=\"matrix(1,0,0,-1,0.398,113.784)\"/>\n",
       "</g>\n",
       "</svg>"
      ]
     },
     "metadata": {
      "isolated": "true"
     },
     "output_type": "display_data"
    }
   ],
   "source": [
    "%%tikz -f svg\n",
    "\n",
    "\\draw[blue, thick] (0,0) rectangle (2,2);\n",
    "\\draw[blue, thick] (0,2) rectangle (2,4);\n",
    "\\draw[blue, thick] (2,0) rectangle (4,2);\n",
    "\\draw[gray, dotted] (1,0) -- (1,2);\n",
    "\\draw[gray, dotted] (0,1) -- (2,1);"
   ]
  },
  {
   "cell_type": "markdown",
   "metadata": {},
   "source": [
    "**Boy.** {YES}\n",
    "\n",
    "**Soc.** Suppose that we fill up the vacant corner?\n",
    "\n",
    "**Boy.** {YES}"
   ]
  },
  {
   "cell_type": "code",
   "execution_count": 10,
   "metadata": {},
   "outputs": [
    {
     "data": {
      "image/svg+xml": [
       "<svg height=\"240px\" version=\"1.1\" viewBox=\"0 0 114.183 114.183\" width=\"400px\" xmlns=\"http://www.w3.org/2000/svg\" xmlns:xlink=\"http://www.w3.org/1999/xlink\">\n",
       "<defs>\n",
       "<clipPath id=\"clip1\">\n",
       "  <path d=\"M 0 56 L 58 56 L 58 114.183594 L 0 114.183594 Z M 0 56 \"/>\n",
       "</clipPath>\n",
       "<clipPath id=\"clip2\">\n",
       "  <path d=\"M 56 56 L 114.183594 56 L 114.183594 114.183594 L 56 114.183594 Z M 56 56 \"/>\n",
       "</clipPath>\n",
       "<clipPath id=\"clip3\">\n",
       "  <path d=\"M 56 0 L 114.183594 0 L 114.183594 58 L 56 58 Z M 56 0 \"/>\n",
       "</clipPath>\n",
       "</defs>\n",
       "<g id=\"surface1\">\n",
       "<g clip-path=\"url(#clip1)\" clip-rule=\"nonzero\">\n",
       "<path d=\"M 0.0004375 -0.00115625 L 0.0004375 56.694156 L 56.691844 56.694156 L 56.691844 -0.00115625 Z M 0.0004375 -0.00115625 \" style=\"fill:none;stroke-width:0.79701;stroke-linecap:butt;stroke-linejoin:miter;stroke:rgb(0%,0%,100%);stroke-opacity:1;stroke-miterlimit:10;\" transform=\"matrix(1,0,0,-1,0.398,113.784)\"/>\n",
       "</g>\n",
       "<path d=\"M 0.0004375 56.694156 L 0.0004375 113.385562 L 56.691844 113.385562 L 56.691844 56.694156 Z M 0.0004375 56.694156 \" style=\"fill:none;stroke-width:0.79701;stroke-linecap:butt;stroke-linejoin:miter;stroke:rgb(0%,0%,100%);stroke-opacity:1;stroke-miterlimit:10;\" transform=\"matrix(1,0,0,-1,0.398,113.784)\"/>\n",
       "<g clip-path=\"url(#clip2)\" clip-rule=\"nonzero\">\n",
       "<path d=\"M 56.691844 -0.00115625 L 56.691844 56.694156 L 113.387156 56.694156 L 113.387156 -0.00115625 Z M 56.691844 -0.00115625 \" style=\"fill:none;stroke-width:0.79701;stroke-linecap:butt;stroke-linejoin:miter;stroke:rgb(0%,0%,100%);stroke-opacity:1;stroke-miterlimit:10;\" transform=\"matrix(1,0,0,-1,0.398,113.784)\"/>\n",
       "</g>\n",
       "<g clip-path=\"url(#clip3)\" clip-rule=\"nonzero\">\n",
       "<path d=\"M 56.691844 56.694156 L 56.691844 113.385562 L 113.387156 113.385562 L 113.387156 56.694156 Z M 56.691844 56.694156 \" style=\"fill:none;stroke-width:0.79701;stroke-linecap:butt;stroke-linejoin:miter;stroke:rgb(0%,0%,100%);stroke-opacity:1;stroke-miterlimit:10;\" transform=\"matrix(1,0,0,-1,0.398,113.784)\"/>\n",
       "</g>\n",
       "<path d=\"M 28.348094 -0.00115625 L 28.348094 56.694156 \" style=\"fill:none;stroke-width:0.3985;stroke-linecap:butt;stroke-linejoin:miter;stroke:rgb(50%,50%,50%);stroke-opacity:1;stroke-dasharray:0.3985,1.99255;stroke-miterlimit:10;\" transform=\"matrix(1,0,0,-1,0.398,113.784)\"/>\n",
       "<path d=\"M 0.0004375 28.3465 L 56.691844 28.3465 \" style=\"fill:none;stroke-width:0.3985;stroke-linecap:butt;stroke-linejoin:miter;stroke:rgb(50%,50%,50%);stroke-opacity:1;stroke-dasharray:0.3985,1.99255;stroke-miterlimit:10;\" transform=\"matrix(1,0,0,-1,0.398,113.784)\"/>\n",
       "</g>\n",
       "</svg>"
      ]
     },
     "metadata": {
      "isolated": "true"
     },
     "output_type": "display_data"
    }
   ],
   "source": [
    "%%tikz -f svg\n",
    "\n",
    "\\draw[blue, thick] (0,0) rectangle (2,2);\n",
    "\\draw[blue, thick] (0,2) rectangle (2,4);\n",
    "\\draw[blue, thick] (2,0) rectangle (4,2);\n",
    "\\draw[blue, thick] (2,2) rectangle (4,4);\n",
    "\\draw[gray, dotted] (1,0) -- (1,2);\n",
    "\\draw[gray, dotted] (0,1) -- (2,1);"
   ]
  },
  {
   "cell_type": "markdown",
   "metadata": {},
   "source": [
    "**Soc.** Here, then, there are four equal spaces?\n",
    "\n",
    "**Boy.** {YES}\n",
    "\n",
    "**Soc.** And how many times larger is this space than this other?\n",
    "\n",
    "**Boy.** {4}.\n",
    "\n",
    "**Soc.** But it ought to have been twice only, as you will remember.\n",
    "\n",
    "**Boy.** {YES}\n",
    "\n",
    "**Soc.** And does not this line, reaching from corner to corner, bisect each of these spaces?"
   ]
  },
  {
   "cell_type": "code",
   "execution_count": 11,
   "metadata": {},
   "outputs": [
    {
     "data": {
      "image/svg+xml": [
       "<svg height=\"240px\" version=\"1.1\" viewBox=\"0 0 114.183 114.183\" width=\"400px\" xmlns=\"http://www.w3.org/2000/svg\" xmlns:xlink=\"http://www.w3.org/1999/xlink\">\n",
       "<defs>\n",
       "<clipPath id=\"clip1\">\n",
       "  <path d=\"M 0 56 L 58 56 L 58 114.183594 L 0 114.183594 Z M 0 56 \"/>\n",
       "</clipPath>\n",
       "<clipPath id=\"clip2\">\n",
       "  <path d=\"M 56 56 L 114.183594 56 L 114.183594 114.183594 L 56 114.183594 Z M 56 56 \"/>\n",
       "</clipPath>\n",
       "<clipPath id=\"clip3\">\n",
       "  <path d=\"M 56 0 L 114.183594 0 L 114.183594 58 L 56 58 Z M 56 0 \"/>\n",
       "</clipPath>\n",
       "<clipPath id=\"clip4\">\n",
       "  <path d=\"M 0 51 L 63 51 L 63 114.183594 L 0 114.183594 Z M 0 51 \"/>\n",
       "</clipPath>\n",
       "<clipPath id=\"clip5\">\n",
       "  <path d=\"M 51 51 L 114.183594 51 L 114.183594 114.183594 L 51 114.183594 Z M 51 51 \"/>\n",
       "</clipPath>\n",
       "<clipPath id=\"clip6\">\n",
       "  <path d=\"M 51 0 L 114.183594 0 L 114.183594 63 L 51 63 Z M 51 0 \"/>\n",
       "</clipPath>\n",
       "</defs>\n",
       "<g id=\"surface1\">\n",
       "<g clip-path=\"url(#clip1)\" clip-rule=\"nonzero\">\n",
       "<path d=\"M 0.0004375 -0.00115625 L 0.0004375 56.694156 L 56.691844 56.694156 L 56.691844 -0.00115625 Z M 0.0004375 -0.00115625 \" style=\"fill:none;stroke-width:0.79701;stroke-linecap:butt;stroke-linejoin:miter;stroke:rgb(0%,0%,100%);stroke-opacity:1;stroke-miterlimit:10;\" transform=\"matrix(1,0,0,-1,0.398,113.784)\"/>\n",
       "</g>\n",
       "<path d=\"M 0.0004375 56.694156 L 0.0004375 113.385562 L 56.691844 113.385562 L 56.691844 56.694156 Z M 0.0004375 56.694156 \" style=\"fill:none;stroke-width:0.79701;stroke-linecap:butt;stroke-linejoin:miter;stroke:rgb(0%,0%,100%);stroke-opacity:1;stroke-miterlimit:10;\" transform=\"matrix(1,0,0,-1,0.398,113.784)\"/>\n",
       "<g clip-path=\"url(#clip2)\" clip-rule=\"nonzero\">\n",
       "<path d=\"M 56.691844 -0.00115625 L 56.691844 56.694156 L 113.387156 56.694156 L 113.387156 -0.00115625 Z M 56.691844 -0.00115625 \" style=\"fill:none;stroke-width:0.79701;stroke-linecap:butt;stroke-linejoin:miter;stroke:rgb(0%,0%,100%);stroke-opacity:1;stroke-miterlimit:10;\" transform=\"matrix(1,0,0,-1,0.398,113.784)\"/>\n",
       "</g>\n",
       "<g clip-path=\"url(#clip3)\" clip-rule=\"nonzero\">\n",
       "<path d=\"M 56.691844 56.694156 L 56.691844 113.385562 L 113.387156 113.385562 L 113.387156 56.694156 Z M 56.691844 56.694156 \" style=\"fill:none;stroke-width:0.79701;stroke-linecap:butt;stroke-linejoin:miter;stroke:rgb(0%,0%,100%);stroke-opacity:1;stroke-miterlimit:10;\" transform=\"matrix(1,0,0,-1,0.398,113.784)\"/>\n",
       "</g>\n",
       "<path d=\"M 28.348094 -0.00115625 L 28.348094 56.694156 \" style=\"fill:none;stroke-width:0.3985;stroke-linecap:butt;stroke-linejoin:miter;stroke:rgb(50%,50%,50%);stroke-opacity:1;stroke-dasharray:0.3985,1.99255;stroke-miterlimit:10;\" transform=\"matrix(1,0,0,-1,0.398,113.784)\"/>\n",
       "<path d=\"M 0.0004375 28.3465 L 56.691844 28.3465 \" style=\"fill:none;stroke-width:0.3985;stroke-linecap:butt;stroke-linejoin:miter;stroke:rgb(50%,50%,50%);stroke-opacity:1;stroke-dasharray:0.3985,1.99255;stroke-miterlimit:10;\" transform=\"matrix(1,0,0,-1,0.398,113.784)\"/>\n",
       "<g clip-path=\"url(#clip4)\" clip-rule=\"nonzero\">\n",
       "<path d=\"M 56.691844 -0.00115625 L 0.0004375 56.694156 \" style=\"fill:none;stroke-width:0.3985;stroke-linecap:butt;stroke-linejoin:miter;stroke:rgb(50%,50%,50%);stroke-opacity:1;stroke-dasharray:2.98883,2.98883;stroke-miterlimit:10;\" transform=\"matrix(1,0,0,-1,0.398,113.784)\"/>\n",
       "</g>\n",
       "<path d=\"M 0.0004375 56.694156 L 56.691844 113.385562 \" style=\"fill:none;stroke-width:0.3985;stroke-linecap:butt;stroke-linejoin:miter;stroke:rgb(50%,50%,50%);stroke-opacity:1;stroke-dasharray:2.98883,2.98883;stroke-miterlimit:10;\" transform=\"matrix(1,0,0,-1,0.398,113.784)\"/>\n",
       "<g clip-path=\"url(#clip5)\" clip-rule=\"nonzero\">\n",
       "<path d=\"M 56.691844 -0.00115625 L 113.387156 56.694156 \" style=\"fill:none;stroke-width:0.3985;stroke-linecap:butt;stroke-linejoin:miter;stroke:rgb(50%,50%,50%);stroke-opacity:1;stroke-dasharray:2.98883,2.98883;stroke-miterlimit:10;\" transform=\"matrix(1,0,0,-1,0.398,113.784)\"/>\n",
       "</g>\n",
       "<g clip-path=\"url(#clip6)\" clip-rule=\"nonzero\">\n",
       "<path d=\"M 56.691844 113.385562 L 113.387156 56.694156 \" style=\"fill:none;stroke-width:0.3985;stroke-linecap:butt;stroke-linejoin:miter;stroke:rgb(50%,50%,50%);stroke-opacity:1;stroke-dasharray:2.98883,2.98883;stroke-miterlimit:10;\" transform=\"matrix(1,0,0,-1,0.398,113.784)\"/>\n",
       "</g>\n",
       "</g>\n",
       "</svg>"
      ]
     },
     "metadata": {
      "isolated": "true"
     },
     "output_type": "display_data"
    }
   ],
   "source": [
    "%%tikz -f svg\n",
    "\n",
    "\\draw[blue, thick] (0,0) rectangle (2,2);\n",
    "\\draw[blue, thick] (0,2) rectangle (2,4);\n",
    "\\draw[blue, thick] (2,0) rectangle (4,2);\n",
    "\\draw[blue, thick] (2,2) rectangle (4,4);\n",
    "\\draw[gray, dotted] (1,0) -- (1,2);\n",
    "\\draw[gray, dotted] (0,1) -- (2,1);\n",
    "\n",
    "\\draw[gray, dashed] (2,0) -- (0,2);\n",
    "\\draw[gray, dashed] (0,2) -- (2,4);\n",
    "\\draw[gray, dashed] (2,0) -- (4,2);\n",
    "\\draw[gray, dashed] (2,4) -- (4,2);"
   ]
  },
  {
   "cell_type": "markdown",
   "metadata": {},
   "source": [
    "**Boy.** {YES}\n",
    "\n",
    "**Soc.** And are there not here four equal lines which contain this space?\n",
    "\n",
    "**Boy.** {YES}\n",
    "\n",
    "**Soc.** Look and see how much this space is.\n",
    "\n",
    "**Boy.** I do not understand.\n",
    "\n",
    "**Soc.** Has not each interior line cut off half of the four spaces?\n",
    "\n",
    "**Boy.** {YES}\n",
    "\n",
    "**Soc.** And how many spaces are there in this section?\n",
    "\n",
    "**Boy.** {4}\n",
    "\n",
    "**Soc.** And how many in this?\n",
    "\n",
    "**Boy.** {2}\n",
    "\n",
    "**Soc.** And four is how many times two?\n",
    "\n",
    "**Boy.** {2}\n",
    "\n",
    "**Soc.** And this space is of how many feet?\n",
    "\n",
    "**Boy.** {8}\n",
    "\n",
    "**Soc.** And from what line do you get this figure?\n",
    "\n",
    "**Boy.** [Points to the diagonal line]\n",
    "\n",
    "[Triumphant music.]\n",
    "\n",
    "**Soc.** And that is the line which the learned call the diagonal. And if this is the proper name, then you are prepared to affirm that the double space is the square of the diagonal?\n",
    "\n",
    "**Boy.** _Yes_.\n",
    "\n",
    "[BOY dances the dance of immortality.]"
   ]
  },
  {
   "cell_type": "code",
   "execution_count": 12,
   "metadata": {},
   "outputs": [
    {
     "data": {
      "image/svg+xml": [
       "<svg height=\"240px\" version=\"1.1\" viewBox=\"0 0 114.183 114.183\" width=\"400px\" xmlns=\"http://www.w3.org/2000/svg\" xmlns:xlink=\"http://www.w3.org/1999/xlink\">\n",
       "<defs>\n",
       "<clipPath id=\"clip1\">\n",
       "  <path d=\"M 0 56 L 58 56 L 58 114.183594 L 0 114.183594 Z M 0 56 \"/>\n",
       "</clipPath>\n",
       "<clipPath id=\"clip2\">\n",
       "  <path d=\"M 0 45 L 69 45 L 69 114.183594 L 0 114.183594 Z M 0 45 \"/>\n",
       "</clipPath>\n",
       "<clipPath id=\"clip3\">\n",
       "  <path d=\"M 45 45 L 114.183594 45 L 114.183594 114.183594 L 45 114.183594 Z M 45 45 \"/>\n",
       "</clipPath>\n",
       "<clipPath id=\"clip4\">\n",
       "  <path d=\"M 45 0 L 114.183594 0 L 114.183594 69 L 45 69 Z M 45 0 \"/>\n",
       "</clipPath>\n",
       "</defs>\n",
       "<g id=\"surface1\">\n",
       "<g clip-path=\"url(#clip1)\" clip-rule=\"nonzero\">\n",
       "<path d=\"M 0.0004375 -0.00115625 L 0.0004375 56.694156 L 56.691844 56.694156 L 56.691844 -0.00115625 Z M 0.0004375 -0.00115625 \" style=\"fill:none;stroke-width:0.79701;stroke-linecap:butt;stroke-linejoin:miter;stroke:rgb(0%,0%,100%);stroke-opacity:1;stroke-miterlimit:10;\" transform=\"matrix(1,0,0,-1,0.398,113.784)\"/>\n",
       "</g>\n",
       "<path d=\"M 28.348094 -0.00115625 L 28.348094 56.694156 \" style=\"fill:none;stroke-width:0.3985;stroke-linecap:butt;stroke-linejoin:miter;stroke:rgb(50%,50%,50%);stroke-opacity:1;stroke-dasharray:0.3985,1.99255;stroke-miterlimit:10;\" transform=\"matrix(1,0,0,-1,0.398,113.784)\"/>\n",
       "<path d=\"M 0.0004375 28.3465 L 56.691844 28.3465 \" style=\"fill:none;stroke-width:0.3985;stroke-linecap:butt;stroke-linejoin:miter;stroke:rgb(50%,50%,50%);stroke-opacity:1;stroke-dasharray:0.3985,1.99255;stroke-miterlimit:10;\" transform=\"matrix(1,0,0,-1,0.398,113.784)\"/>\n",
       "<g clip-path=\"url(#clip2)\" clip-rule=\"nonzero\">\n",
       "<path d=\"M 56.691844 -0.00115625 L 0.0004375 56.694156 \" style=\"fill:none;stroke-width:0.79701;stroke-linecap:butt;stroke-linejoin:miter;stroke:rgb(50%,50%,50%);stroke-opacity:1;stroke-miterlimit:10;\" transform=\"matrix(1,0,0,-1,0.398,113.784)\"/>\n",
       "</g>\n",
       "<path d=\"M 0.0004375 56.694156 L 56.691844 113.385562 \" style=\"fill:none;stroke-width:0.79701;stroke-linecap:butt;stroke-linejoin:miter;stroke:rgb(50%,50%,50%);stroke-opacity:1;stroke-miterlimit:10;\" transform=\"matrix(1,0,0,-1,0.398,113.784)\"/>\n",
       "<g clip-path=\"url(#clip3)\" clip-rule=\"nonzero\">\n",
       "<path d=\"M 56.691844 -0.00115625 L 113.387156 56.694156 \" style=\"fill:none;stroke-width:0.79701;stroke-linecap:butt;stroke-linejoin:miter;stroke:rgb(50%,50%,50%);stroke-opacity:1;stroke-miterlimit:10;\" transform=\"matrix(1,0,0,-1,0.398,113.784)\"/>\n",
       "</g>\n",
       "<g clip-path=\"url(#clip4)\" clip-rule=\"nonzero\">\n",
       "<path d=\"M 56.691844 113.385562 L 113.387156 56.694156 \" style=\"fill:none;stroke-width:0.79701;stroke-linecap:butt;stroke-linejoin:miter;stroke:rgb(50%,50%,50%);stroke-opacity:1;stroke-miterlimit:10;\" transform=\"matrix(1,0,0,-1,0.398,113.784)\"/>\n",
       "</g>\n",
       "</g>\n",
       "</svg>"
      ]
     },
     "metadata": {
      "isolated": "true"
     },
     "output_type": "display_data"
    }
   ],
   "source": [
    "%%tikz -f svg\n",
    "\n",
    "\\draw[blue, thick] (0,0) rectangle (2,2);\n",
    "\n",
    "\\draw[gray, dotted] (1,0) -- (1,2);\n",
    "\\draw[gray, dotted] (0,1) -- (2,1);\n",
    "\n",
    "\\draw[gray, thick] (2,0) -- (0,2);\n",
    "\\draw[gray, thick] (0,2) -- (2,4);\n",
    "\\draw[gray, thick] (2,0) -- (4,2);\n",
    "\\draw[gray, thick] (2,4) -- (4,2);"
   ]
  },
  {
   "cell_type": "markdown",
   "metadata": {},
   "source": [
    "## Act 3\n",
    "\n",
    "[Indoors. The [ROOM #3]. Meno is resting at the [FURNITURE]. SOCRATES is engaging in [MOVEMENT ART STYLE].]\n",
    "\n",
    "**Soc.** What do you say of him, Meno? Were not all these answers given out of his own head?\n",
    "\n",
    "**Men.** Yes, they were all his own.\n",
    "\n",
    "**Soc.** And yet, as we were just now saying, he did not know?\n",
    "\n",
    "**Men.** True.\n",
    "\n",
    "**Soc.** But still he had in him those notions of his-had he not?\n",
    "\n",
    "**Men.** Yes.\n",
    "\n",
    "**Soc.** Then he who does not know may still have true notions of that which he does not know?\n",
    "\n",
    "**Men.** He has. And at present these notions have just been stirred up in him, as in a dream; but if he were frequently asked the same questions, in different forms, he would know as well as any one at last.\n",
    "\n",
    "**Soc.** Without any one teaching him he will recollect his knowledge for himself, if he is only asked questions?\n",
    "\n",
    "**Men.** Yes. And this spontaneous recollection of knowledge in him -- \n",
    "\n",
    "**Soc** and **Meno**: _Is uncovery._\n",
    "\n",
    "**Men.** This knowledge which he now has must he not either have acquired or always possessed?\n",
    "\n",
    "**Soc.** But if he always possessed this knowledge he would always have known; or if he has acquired the knowledge he could not have acquired it in this life, unless he has been taught geometry. For he may be made to do the same with all geometry and every other branch of knowledge. Now, has any one ever taught him all this? You must know about him, if, as you say, he was born and bred in your house.\n",
    "\n",
    "**Men.** And I am certain that no one ever did teach him.\n",
    "\n",
    "**Soc.** And yet he has the knowledge?\n",
    "\n",
    "**Men.** The fact is undeniable.\n",
    "\n",
    "**Soc.** But if he did not acquire the knowledge in this life, then he must have had and learned it at some other time?\n",
    "\n",
    "**Men.** Clearly he must have learned it at a time when he was not a man.\n",
    "\n",
    "**Soc.** And if there have been always true thoughts in him, both at the time when he was and was not a man, which only need to be awakened into knowledge by putting questions to him, his soul must have always possessed this knowledge, for he always either was or was not a man?\n",
    "\n",
    "**Men.** Obviously.\n",
    "\n",
    "**Soc.** And if the truth of all things always existed in the soul, then the soul is immortal. Wherefore be of good cheer, and try to uncover what you do not know, or rather what you do not remember.\n",
    "\n",
    "**Men.** I feel, somehow, that I like what you are saying.\n",
    "\n",
    "**Soc.** And I, Meno, like what I am saying. Some things I have said of which I am not altogether confident. But that we shall be better and braver and less helpless if we think that we ought to enquire, than we should have been if we indulged in the idle fancy that there was no knowing and no use in seeking to know what we do not know;-that is a theme upon which I am ready to fight, in word and deed, to the utmost of my power.\n",
    "\n",
    "**Men.** There again, your words seem to me excellent.\n",
    "\n",
    "[Music. Fade to black.]"
   ]
  },
  {
   "cell_type": "markdown",
   "metadata": {},
   "source": [
    "## Credits\n",
    "\n",
    "[Meno dancing.]"
   ]
  },
  {
   "cell_type": "code",
   "execution_count": null,
   "metadata": {},
   "outputs": [],
   "source": []
  }
 ],
 "metadata": {
  "kernelspec": {
   "display_name": "Python 3",
   "language": "python",
   "name": "python3"
  },
  "language_info": {
   "codemirror_mode": {
    "name": "ipython",
    "version": 3
   },
   "file_extension": ".py",
   "mimetype": "text/x-python",
   "name": "python",
   "nbconvert_exporter": "python",
   "pygments_lexer": "ipython3",
   "version": "3.6.12"
  },
  "latex_envs": {
   "LaTeX_envs_menu_present": true,
   "autoclose": false,
   "autocomplete": true,
   "bibliofile": "biblio.bib",
   "cite_by": "apalike",
   "current_citInitial": 1,
   "eqLabelWithNumbers": true,
   "eqNumInitial": 1,
   "hotkeys": {
    "equation": "Ctrl-E",
    "itemize": "Ctrl-I"
   },
   "labels_anchors": false,
   "latex_user_defs": false,
   "report_style_numbering": false,
   "user_envs_cfg": false
  },
  "toc": {
   "base_numbering": 1,
   "nav_menu": {},
   "number_sections": true,
   "sideBar": true,
   "skip_h1_title": false,
   "title_cell": "Table of Contents",
   "title_sidebar": "Contents",
   "toc_cell": false,
   "toc_position": {},
   "toc_section_display": true,
   "toc_window_display": false
  }
 },
 "nbformat": 4,
 "nbformat_minor": 4
}
